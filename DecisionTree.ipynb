{
 "cells": [
  {
   "cell_type": "markdown",
   "id": "bba1a074-445f-45a3-8153-53cdd3a0deca",
   "metadata": {
    "tags": []
   },
   "source": [
    "# Building a decision Tree"
   ]
  },
  {
   "cell_type": "markdown",
   "id": "d3898695-bdcc-4970-adf0-2043255323f3",
   "metadata": {},
   "source": [
    "## Importing Necessary Libraries\n",
    "In the following block of codes, We will import necessary libraries that include Pandas, Matplotlib and Sklearn"
   ]
  },
  {
   "cell_type": "code",
   "execution_count": 1,
   "id": "4c093181-1b4c-489f-a041-f217e4121bc6",
   "metadata": {},
   "outputs": [],
   "source": [
    "from pandas import Series, DataFrame\n",
    "import pandas as pd\n",
    "import numpy as np\n",
    "import matplotlib.pyplot as plt\n",
    "from sklearn.model_selection import train_test_split #This was cross_validation in earlier versions\n",
    "from sklearn.tree import DecisionTreeClassifier\n",
    "from sklearn.metrics import classification_report\n",
    "import sklearn"
   ]
  },
  {
   "cell_type": "markdown",
   "id": "03fa234a-3529-482e-a67c-c2e2bef5f3cf",
   "metadata": {},
   "source": [
    "## Loading the Dataset\n",
    "The dataset is from _The National Longitudinal Study of Adolescent Health_ (AddHealth) is a representative school-based survey of adolescents in grades 7-12 in the United States. The Wave 1 survey focuses on factors that may influence adolescents’ health and risk behaviors, including personal traits, families, friendships, romantic relationships, peer groups, schools, neighborhoods, and communities. "
   ]
  },
  {
   "cell_type": "code",
   "execution_count": 2,
   "id": "f681b936-c0cc-47b6-9f4f-3e8c518f52ee",
   "metadata": {},
   "outputs": [],
   "source": [
    "AH_data = pd.read_csv(\"../datasets/datasetfortree.csv\")"
   ]
  },
  {
   "cell_type": "markdown",
   "id": "8f802882-f006-4e7a-9da5-ac2acfce2825",
   "metadata": {},
   "source": [
    "### Checking first five rows of the data"
   ]
  },
  {
   "cell_type": "code",
   "execution_count": 3,
   "id": "ef4bf24a-b780-44b3-876f-87ea81605a0d",
   "metadata": {},
   "outputs": [
    {
     "data": {
      "text/html": [
       "<div>\n",
       "<style scoped>\n",
       "    .dataframe tbody tr th:only-of-type {\n",
       "        vertical-align: middle;\n",
       "    }\n",
       "\n",
       "    .dataframe tbody tr th {\n",
       "        vertical-align: top;\n",
       "    }\n",
       "\n",
       "    .dataframe thead th {\n",
       "        text-align: right;\n",
       "    }\n",
       "</style>\n",
       "<table border=\"1\" class=\"dataframe\">\n",
       "  <thead>\n",
       "    <tr style=\"text-align: right;\">\n",
       "      <th></th>\n",
       "      <th>BIO_SEX</th>\n",
       "      <th>HISPANIC</th>\n",
       "      <th>WHITE</th>\n",
       "      <th>BLACK</th>\n",
       "      <th>NAMERICAN</th>\n",
       "      <th>ASIAN</th>\n",
       "      <th>age</th>\n",
       "      <th>TREG1</th>\n",
       "      <th>ALCEVR1</th>\n",
       "      <th>ALCPROBS1</th>\n",
       "      <th>...</th>\n",
       "      <th>ESTEEM1</th>\n",
       "      <th>VIOL1</th>\n",
       "      <th>PASSIST</th>\n",
       "      <th>DEVIANT1</th>\n",
       "      <th>SCHCONN1</th>\n",
       "      <th>GPA1</th>\n",
       "      <th>EXPEL1</th>\n",
       "      <th>FAMCONCT</th>\n",
       "      <th>PARACTV</th>\n",
       "      <th>PARPRES</th>\n",
       "    </tr>\n",
       "  </thead>\n",
       "  <tbody>\n",
       "    <tr>\n",
       "      <th>0</th>\n",
       "      <td>2.0</td>\n",
       "      <td>0.0</td>\n",
       "      <td>0.0</td>\n",
       "      <td>1.0</td>\n",
       "      <td>0.0</td>\n",
       "      <td>0.0</td>\n",
       "      <td>NaN</td>\n",
       "      <td>0.0</td>\n",
       "      <td>1.0</td>\n",
       "      <td>2</td>\n",
       "      <td>...</td>\n",
       "      <td>47.0</td>\n",
       "      <td>4.0</td>\n",
       "      <td>0</td>\n",
       "      <td>5.0</td>\n",
       "      <td>NaN</td>\n",
       "      <td>NaN</td>\n",
       "      <td>0.0</td>\n",
       "      <td>24.3</td>\n",
       "      <td>8.0</td>\n",
       "      <td>15.0</td>\n",
       "    </tr>\n",
       "    <tr>\n",
       "      <th>1</th>\n",
       "      <td>2.0</td>\n",
       "      <td>0.0</td>\n",
       "      <td>0.0</td>\n",
       "      <td>1.0</td>\n",
       "      <td>0.0</td>\n",
       "      <td>0.0</td>\n",
       "      <td>19.427397</td>\n",
       "      <td>1.0</td>\n",
       "      <td>1.0</td>\n",
       "      <td>1</td>\n",
       "      <td>...</td>\n",
       "      <td>35.0</td>\n",
       "      <td>1.0</td>\n",
       "      <td>0</td>\n",
       "      <td>5.0</td>\n",
       "      <td>22.0</td>\n",
       "      <td>2.333333</td>\n",
       "      <td>0.0</td>\n",
       "      <td>23.3</td>\n",
       "      <td>9.0</td>\n",
       "      <td>15.0</td>\n",
       "    </tr>\n",
       "    <tr>\n",
       "      <th>2</th>\n",
       "      <td>1.0</td>\n",
       "      <td>0.0</td>\n",
       "      <td>1.0</td>\n",
       "      <td>0.0</td>\n",
       "      <td>0.0</td>\n",
       "      <td>0.0</td>\n",
       "      <td>NaN</td>\n",
       "      <td>0.0</td>\n",
       "      <td>0.0</td>\n",
       "      <td>0</td>\n",
       "      <td>...</td>\n",
       "      <td>45.0</td>\n",
       "      <td>0.0</td>\n",
       "      <td>0</td>\n",
       "      <td>1.0</td>\n",
       "      <td>30.0</td>\n",
       "      <td>2.250000</td>\n",
       "      <td>0.0</td>\n",
       "      <td>24.3</td>\n",
       "      <td>3.0</td>\n",
       "      <td>15.0</td>\n",
       "    </tr>\n",
       "    <tr>\n",
       "      <th>3</th>\n",
       "      <td>1.0</td>\n",
       "      <td>0.0</td>\n",
       "      <td>0.0</td>\n",
       "      <td>1.0</td>\n",
       "      <td>0.0</td>\n",
       "      <td>0.0</td>\n",
       "      <td>20.430137</td>\n",
       "      <td>1.0</td>\n",
       "      <td>0.0</td>\n",
       "      <td>0</td>\n",
       "      <td>...</td>\n",
       "      <td>47.0</td>\n",
       "      <td>4.0</td>\n",
       "      <td>1</td>\n",
       "      <td>4.0</td>\n",
       "      <td>19.0</td>\n",
       "      <td>2.000000</td>\n",
       "      <td>0.0</td>\n",
       "      <td>18.7</td>\n",
       "      <td>6.0</td>\n",
       "      <td>14.0</td>\n",
       "    </tr>\n",
       "    <tr>\n",
       "      <th>4</th>\n",
       "      <td>2.0</td>\n",
       "      <td>0.0</td>\n",
       "      <td>0.0</td>\n",
       "      <td>1.0</td>\n",
       "      <td>0.0</td>\n",
       "      <td>0.0</td>\n",
       "      <td>NaN</td>\n",
       "      <td>0.0</td>\n",
       "      <td>1.0</td>\n",
       "      <td>0</td>\n",
       "      <td>...</td>\n",
       "      <td>39.0</td>\n",
       "      <td>0.0</td>\n",
       "      <td>0</td>\n",
       "      <td>5.0</td>\n",
       "      <td>32.0</td>\n",
       "      <td>3.000000</td>\n",
       "      <td>0.0</td>\n",
       "      <td>20.0</td>\n",
       "      <td>9.0</td>\n",
       "      <td>6.0</td>\n",
       "    </tr>\n",
       "  </tbody>\n",
       "</table>\n",
       "<p>5 rows × 25 columns</p>\n",
       "</div>"
      ],
      "text/plain": [
       "   BIO_SEX  HISPANIC  WHITE  BLACK  NAMERICAN  ASIAN        age  TREG1  \\\n",
       "0      2.0       0.0    0.0    1.0        0.0    0.0        NaN    0.0   \n",
       "1      2.0       0.0    0.0    1.0        0.0    0.0  19.427397    1.0   \n",
       "2      1.0       0.0    1.0    0.0        0.0    0.0        NaN    0.0   \n",
       "3      1.0       0.0    0.0    1.0        0.0    0.0  20.430137    1.0   \n",
       "4      2.0       0.0    0.0    1.0        0.0    0.0        NaN    0.0   \n",
       "\n",
       "   ALCEVR1  ALCPROBS1  ...  ESTEEM1  VIOL1  PASSIST  DEVIANT1  SCHCONN1  \\\n",
       "0      1.0          2  ...     47.0    4.0        0       5.0       NaN   \n",
       "1      1.0          1  ...     35.0    1.0        0       5.0      22.0   \n",
       "2      0.0          0  ...     45.0    0.0        0       1.0      30.0   \n",
       "3      0.0          0  ...     47.0    4.0        1       4.0      19.0   \n",
       "4      1.0          0  ...     39.0    0.0        0       5.0      32.0   \n",
       "\n",
       "       GPA1  EXPEL1  FAMCONCT  PARACTV  PARPRES  \n",
       "0       NaN     0.0      24.3      8.0     15.0  \n",
       "1  2.333333     0.0      23.3      9.0     15.0  \n",
       "2  2.250000     0.0      24.3      3.0     15.0  \n",
       "3  2.000000     0.0      18.7      6.0     14.0  \n",
       "4  3.000000     0.0      20.0      9.0      6.0  \n",
       "\n",
       "[5 rows x 25 columns]"
      ]
     },
     "execution_count": 3,
     "metadata": {},
     "output_type": "execute_result"
    }
   ],
   "source": [
    "AH_data.head()"
   ]
  },
  {
   "cell_type": "markdown",
   "id": "0e5ea1b9-8e4f-43f3-a836-e00e5f4093a3",
   "metadata": {},
   "source": [
    "* **Creating a cleaned dataset by dropping missing values**"
   ]
  },
  {
   "cell_type": "code",
   "execution_count": 4,
   "id": "06c0667e-7d62-4c2e-ab6c-358248ac2dbc",
   "metadata": {},
   "outputs": [],
   "source": [
    "data_clean = AH_data.dropna()"
   ]
  },
  {
   "cell_type": "markdown",
   "id": "e8dbd88b-2687-41e4-87b9-df20199dfb6d",
   "metadata": {},
   "source": [
    "* **Looking at the descriptive Statistics of the cleaned data**"
   ]
  },
  {
   "cell_type": "code",
   "execution_count": 5,
   "id": "b0929734-2db3-49f0-b890-dd2ddacf105f",
   "metadata": {},
   "outputs": [
    {
     "data": {
      "text/html": [
       "<div>\n",
       "<style scoped>\n",
       "    .dataframe tbody tr th:only-of-type {\n",
       "        vertical-align: middle;\n",
       "    }\n",
       "\n",
       "    .dataframe tbody tr th {\n",
       "        vertical-align: top;\n",
       "    }\n",
       "\n",
       "    .dataframe thead th {\n",
       "        text-align: right;\n",
       "    }\n",
       "</style>\n",
       "<table border=\"1\" class=\"dataframe\">\n",
       "  <thead>\n",
       "    <tr style=\"text-align: right;\">\n",
       "      <th></th>\n",
       "      <th>BIO_SEX</th>\n",
       "      <th>HISPANIC</th>\n",
       "      <th>WHITE</th>\n",
       "      <th>BLACK</th>\n",
       "      <th>NAMERICAN</th>\n",
       "      <th>ASIAN</th>\n",
       "      <th>age</th>\n",
       "      <th>TREG1</th>\n",
       "      <th>ALCEVR1</th>\n",
       "      <th>ALCPROBS1</th>\n",
       "      <th>...</th>\n",
       "      <th>ESTEEM1</th>\n",
       "      <th>VIOL1</th>\n",
       "      <th>PASSIST</th>\n",
       "      <th>DEVIANT1</th>\n",
       "      <th>SCHCONN1</th>\n",
       "      <th>GPA1</th>\n",
       "      <th>EXPEL1</th>\n",
       "      <th>FAMCONCT</th>\n",
       "      <th>PARACTV</th>\n",
       "      <th>PARPRES</th>\n",
       "    </tr>\n",
       "  </thead>\n",
       "  <tbody>\n",
       "    <tr>\n",
       "      <th>count</th>\n",
       "      <td>4575.000000</td>\n",
       "      <td>4575.000000</td>\n",
       "      <td>4575.000000</td>\n",
       "      <td>4575.000000</td>\n",
       "      <td>4575.000000</td>\n",
       "      <td>4575.000000</td>\n",
       "      <td>4575.000000</td>\n",
       "      <td>4575.000000</td>\n",
       "      <td>4575.000000</td>\n",
       "      <td>4575.000000</td>\n",
       "      <td>...</td>\n",
       "      <td>4575.000000</td>\n",
       "      <td>4575.000000</td>\n",
       "      <td>4575.000000</td>\n",
       "      <td>4575.000000</td>\n",
       "      <td>4575.000000</td>\n",
       "      <td>4575.000000</td>\n",
       "      <td>4575.000000</td>\n",
       "      <td>4575.000000</td>\n",
       "      <td>4575.000000</td>\n",
       "      <td>4575.000000</td>\n",
       "    </tr>\n",
       "    <tr>\n",
       "      <th>mean</th>\n",
       "      <td>1.521093</td>\n",
       "      <td>0.111038</td>\n",
       "      <td>0.683279</td>\n",
       "      <td>0.236066</td>\n",
       "      <td>0.036284</td>\n",
       "      <td>0.040437</td>\n",
       "      <td>16.493052</td>\n",
       "      <td>0.176393</td>\n",
       "      <td>0.527432</td>\n",
       "      <td>0.369180</td>\n",
       "      <td>...</td>\n",
       "      <td>40.952131</td>\n",
       "      <td>1.618579</td>\n",
       "      <td>0.102514</td>\n",
       "      <td>2.645027</td>\n",
       "      <td>28.360656</td>\n",
       "      <td>2.815647</td>\n",
       "      <td>0.040219</td>\n",
       "      <td>22.570557</td>\n",
       "      <td>6.290710</td>\n",
       "      <td>13.398033</td>\n",
       "    </tr>\n",
       "    <tr>\n",
       "      <th>std</th>\n",
       "      <td>0.499609</td>\n",
       "      <td>0.314214</td>\n",
       "      <td>0.465249</td>\n",
       "      <td>0.424709</td>\n",
       "      <td>0.187017</td>\n",
       "      <td>0.197004</td>\n",
       "      <td>1.552174</td>\n",
       "      <td>0.381196</td>\n",
       "      <td>0.499302</td>\n",
       "      <td>0.894947</td>\n",
       "      <td>...</td>\n",
       "      <td>5.381439</td>\n",
       "      <td>2.593230</td>\n",
       "      <td>0.303356</td>\n",
       "      <td>3.520554</td>\n",
       "      <td>5.156385</td>\n",
       "      <td>0.770167</td>\n",
       "      <td>0.196493</td>\n",
       "      <td>2.614754</td>\n",
       "      <td>3.360219</td>\n",
       "      <td>2.085837</td>\n",
       "    </tr>\n",
       "    <tr>\n",
       "      <th>min</th>\n",
       "      <td>1.000000</td>\n",
       "      <td>0.000000</td>\n",
       "      <td>0.000000</td>\n",
       "      <td>0.000000</td>\n",
       "      <td>0.000000</td>\n",
       "      <td>0.000000</td>\n",
       "      <td>12.676712</td>\n",
       "      <td>0.000000</td>\n",
       "      <td>0.000000</td>\n",
       "      <td>0.000000</td>\n",
       "      <td>...</td>\n",
       "      <td>18.000000</td>\n",
       "      <td>0.000000</td>\n",
       "      <td>0.000000</td>\n",
       "      <td>0.000000</td>\n",
       "      <td>6.000000</td>\n",
       "      <td>1.000000</td>\n",
       "      <td>0.000000</td>\n",
       "      <td>6.300000</td>\n",
       "      <td>0.000000</td>\n",
       "      <td>3.000000</td>\n",
       "    </tr>\n",
       "    <tr>\n",
       "      <th>25%</th>\n",
       "      <td>1.000000</td>\n",
       "      <td>0.000000</td>\n",
       "      <td>0.000000</td>\n",
       "      <td>0.000000</td>\n",
       "      <td>0.000000</td>\n",
       "      <td>0.000000</td>\n",
       "      <td>15.254795</td>\n",
       "      <td>0.000000</td>\n",
       "      <td>0.000000</td>\n",
       "      <td>0.000000</td>\n",
       "      <td>...</td>\n",
       "      <td>38.000000</td>\n",
       "      <td>0.000000</td>\n",
       "      <td>0.000000</td>\n",
       "      <td>0.000000</td>\n",
       "      <td>25.000000</td>\n",
       "      <td>2.250000</td>\n",
       "      <td>0.000000</td>\n",
       "      <td>21.700000</td>\n",
       "      <td>4.000000</td>\n",
       "      <td>12.000000</td>\n",
       "    </tr>\n",
       "    <tr>\n",
       "      <th>50%</th>\n",
       "      <td>2.000000</td>\n",
       "      <td>0.000000</td>\n",
       "      <td>1.000000</td>\n",
       "      <td>0.000000</td>\n",
       "      <td>0.000000</td>\n",
       "      <td>0.000000</td>\n",
       "      <td>16.509589</td>\n",
       "      <td>0.000000</td>\n",
       "      <td>1.000000</td>\n",
       "      <td>0.000000</td>\n",
       "      <td>...</td>\n",
       "      <td>40.000000</td>\n",
       "      <td>0.000000</td>\n",
       "      <td>0.000000</td>\n",
       "      <td>1.000000</td>\n",
       "      <td>29.000000</td>\n",
       "      <td>2.750000</td>\n",
       "      <td>0.000000</td>\n",
       "      <td>23.700000</td>\n",
       "      <td>6.000000</td>\n",
       "      <td>14.000000</td>\n",
       "    </tr>\n",
       "    <tr>\n",
       "      <th>75%</th>\n",
       "      <td>2.000000</td>\n",
       "      <td>0.000000</td>\n",
       "      <td>1.000000</td>\n",
       "      <td>0.000000</td>\n",
       "      <td>0.000000</td>\n",
       "      <td>0.000000</td>\n",
       "      <td>17.679452</td>\n",
       "      <td>0.000000</td>\n",
       "      <td>1.000000</td>\n",
       "      <td>0.000000</td>\n",
       "      <td>...</td>\n",
       "      <td>45.000000</td>\n",
       "      <td>2.000000</td>\n",
       "      <td>0.000000</td>\n",
       "      <td>4.000000</td>\n",
       "      <td>32.000000</td>\n",
       "      <td>3.500000</td>\n",
       "      <td>0.000000</td>\n",
       "      <td>24.300000</td>\n",
       "      <td>9.000000</td>\n",
       "      <td>15.000000</td>\n",
       "    </tr>\n",
       "    <tr>\n",
       "      <th>max</th>\n",
       "      <td>2.000000</td>\n",
       "      <td>1.000000</td>\n",
       "      <td>1.000000</td>\n",
       "      <td>1.000000</td>\n",
       "      <td>1.000000</td>\n",
       "      <td>1.000000</td>\n",
       "      <td>21.512329</td>\n",
       "      <td>1.000000</td>\n",
       "      <td>1.000000</td>\n",
       "      <td>6.000000</td>\n",
       "      <td>...</td>\n",
       "      <td>50.000000</td>\n",
       "      <td>19.000000</td>\n",
       "      <td>1.000000</td>\n",
       "      <td>27.000000</td>\n",
       "      <td>38.000000</td>\n",
       "      <td>4.000000</td>\n",
       "      <td>1.000000</td>\n",
       "      <td>25.000000</td>\n",
       "      <td>18.000000</td>\n",
       "      <td>15.000000</td>\n",
       "    </tr>\n",
       "  </tbody>\n",
       "</table>\n",
       "<p>8 rows × 25 columns</p>\n",
       "</div>"
      ],
      "text/plain": [
       "           BIO_SEX     HISPANIC        WHITE        BLACK    NAMERICAN  \\\n",
       "count  4575.000000  4575.000000  4575.000000  4575.000000  4575.000000   \n",
       "mean      1.521093     0.111038     0.683279     0.236066     0.036284   \n",
       "std       0.499609     0.314214     0.465249     0.424709     0.187017   \n",
       "min       1.000000     0.000000     0.000000     0.000000     0.000000   \n",
       "25%       1.000000     0.000000     0.000000     0.000000     0.000000   \n",
       "50%       2.000000     0.000000     1.000000     0.000000     0.000000   \n",
       "75%       2.000000     0.000000     1.000000     0.000000     0.000000   \n",
       "max       2.000000     1.000000     1.000000     1.000000     1.000000   \n",
       "\n",
       "             ASIAN          age        TREG1      ALCEVR1    ALCPROBS1  ...  \\\n",
       "count  4575.000000  4575.000000  4575.000000  4575.000000  4575.000000  ...   \n",
       "mean      0.040437    16.493052     0.176393     0.527432     0.369180  ...   \n",
       "std       0.197004     1.552174     0.381196     0.499302     0.894947  ...   \n",
       "min       0.000000    12.676712     0.000000     0.000000     0.000000  ...   \n",
       "25%       0.000000    15.254795     0.000000     0.000000     0.000000  ...   \n",
       "50%       0.000000    16.509589     0.000000     1.000000     0.000000  ...   \n",
       "75%       0.000000    17.679452     0.000000     1.000000     0.000000  ...   \n",
       "max       1.000000    21.512329     1.000000     1.000000     6.000000  ...   \n",
       "\n",
       "           ESTEEM1        VIOL1      PASSIST     DEVIANT1     SCHCONN1  \\\n",
       "count  4575.000000  4575.000000  4575.000000  4575.000000  4575.000000   \n",
       "mean     40.952131     1.618579     0.102514     2.645027    28.360656   \n",
       "std       5.381439     2.593230     0.303356     3.520554     5.156385   \n",
       "min      18.000000     0.000000     0.000000     0.000000     6.000000   \n",
       "25%      38.000000     0.000000     0.000000     0.000000    25.000000   \n",
       "50%      40.000000     0.000000     0.000000     1.000000    29.000000   \n",
       "75%      45.000000     2.000000     0.000000     4.000000    32.000000   \n",
       "max      50.000000    19.000000     1.000000    27.000000    38.000000   \n",
       "\n",
       "              GPA1       EXPEL1     FAMCONCT      PARACTV      PARPRES  \n",
       "count  4575.000000  4575.000000  4575.000000  4575.000000  4575.000000  \n",
       "mean      2.815647     0.040219    22.570557     6.290710    13.398033  \n",
       "std       0.770167     0.196493     2.614754     3.360219     2.085837  \n",
       "min       1.000000     0.000000     6.300000     0.000000     3.000000  \n",
       "25%       2.250000     0.000000    21.700000     4.000000    12.000000  \n",
       "50%       2.750000     0.000000    23.700000     6.000000    14.000000  \n",
       "75%       3.500000     0.000000    24.300000     9.000000    15.000000  \n",
       "max       4.000000     1.000000    25.000000    18.000000    15.000000  \n",
       "\n",
       "[8 rows x 25 columns]"
      ]
     },
     "execution_count": 5,
     "metadata": {},
     "output_type": "execute_result"
    }
   ],
   "source": [
    "data_clean.describe()"
   ]
  },
  {
   "cell_type": "markdown",
   "id": "58e4fd91-1f7f-480c-954a-30200e47323e",
   "metadata": {},
   "source": [
    "# Modelling and Prediction"
   ]
  },
  {
   "cell_type": "markdown",
   "id": "f855204e-34c9-4431-b8c6-fba748c36879",
   "metadata": {},
   "source": [
    "## Spliting data into training and Testing Sets"
   ]
  },
  {
   "cell_type": "markdown",
   "id": "6df78f49-78dd-4314-9194-a4cd58917101",
   "metadata": {},
   "source": [
    "Defining Predictors <br> * If the student ever had alcohol and if the student ever had marijuana"
   ]
  },
  {
   "cell_type": "code",
   "execution_count": 6,
   "id": "287813c7-2b7f-48ac-877d-5d9e34791731",
   "metadata": {},
   "outputs": [],
   "source": [
    "predictors = data_clean[['ALCEVR1','marever1']]"
   ]
  },
  {
   "cell_type": "markdown",
   "id": "d1f3295f-0f92-49a7-b3c5-27781d0854d4",
   "metadata": {},
   "source": [
    "**Defining Target varaible**: 'Treg1'"
   ]
  },
  {
   "cell_type": "code",
   "execution_count": 7,
   "id": "c4314128-1d7e-44ce-afeb-067bae762078",
   "metadata": {},
   "outputs": [],
   "source": [
    "targets = data_clean.TREG1"
   ]
  },
  {
   "cell_type": "markdown",
   "id": "b0fc0d37-8c36-4075-9ff9-bdb495758ad0",
   "metadata": {},
   "source": [
    "**Predicting training test and target data with 40% of test size**"
   ]
  },
  {
   "cell_type": "code",
   "execution_count": 8,
   "id": "bfb9d2f6-de34-4054-9003-6ff8f77d2635",
   "metadata": {},
   "outputs": [],
   "source": [
    "pred_train, pred_test, tar_train, tar_test  =   train_test_split(predictors, targets, test_size=.4)"
   ]
  },
  {
   "cell_type": "markdown",
   "id": "8ee7e69a-f8f4-4591-b4a2-b0228954f7bf",
   "metadata": {},
   "source": [
    "**Checking the dimensions of the target and training data**"
   ]
  },
  {
   "cell_type": "code",
   "execution_count": 9,
   "id": "7be94ef7-aa2d-44a9-ad18-a0cdd0e04420",
   "metadata": {},
   "outputs": [
    {
     "data": {
      "text/plain": [
       "(2745, 2)"
      ]
     },
     "execution_count": 9,
     "metadata": {},
     "output_type": "execute_result"
    }
   ],
   "source": [
    "pred_train.shape"
   ]
  },
  {
   "cell_type": "code",
   "execution_count": 10,
   "id": "5e836935-6c89-45d0-bbda-7e08a4c1b8db",
   "metadata": {},
   "outputs": [
    {
     "data": {
      "text/plain": [
       "(1830, 2)"
      ]
     },
     "execution_count": 10,
     "metadata": {},
     "output_type": "execute_result"
    }
   ],
   "source": [
    "pred_test.shape"
   ]
  },
  {
   "cell_type": "code",
   "execution_count": 11,
   "id": "b41b01c0-2770-4da7-bc00-2a21eb9b01ad",
   "metadata": {},
   "outputs": [
    {
     "data": {
      "text/plain": [
       "(2745,)"
      ]
     },
     "execution_count": 11,
     "metadata": {},
     "output_type": "execute_result"
    }
   ],
   "source": [
    "tar_train.shape"
   ]
  },
  {
   "cell_type": "code",
   "execution_count": 12,
   "id": "fde8d1b8-caa5-41b4-bd53-3b186391ca35",
   "metadata": {},
   "outputs": [
    {
     "data": {
      "text/plain": [
       "(1830,)"
      ]
     },
     "execution_count": 12,
     "metadata": {},
     "output_type": "execute_result"
    }
   ],
   "source": [
    "tar_test.shape"
   ]
  },
  {
   "cell_type": "markdown",
   "id": "bfa19409-24cf-4499-9eaa-faa05b2ff384",
   "metadata": {},
   "source": [
    "## Build model on training data"
   ]
  },
  {
   "cell_type": "markdown",
   "id": "33a038cf-f395-4f2c-944c-74ab940d6026",
   "metadata": {},
   "source": [
    "### Confusion matrix"
   ]
  },
  {
   "cell_type": "code",
   "execution_count": 13,
   "id": "541e6ef4-6ae1-4ded-9883-d1cf59d5e779",
   "metadata": {},
   "outputs": [
    {
     "data": {
      "text/plain": [
       "array([[1500,    0],\n",
       "       [ 330,    0]])"
      ]
     },
     "execution_count": 13,
     "metadata": {},
     "output_type": "execute_result"
    }
   ],
   "source": [
    "classifier=DecisionTreeClassifier()\n",
    "classifier=classifier.fit(pred_train,tar_train)\n",
    "\n",
    "predictions=classifier.predict(pred_test)\n",
    "\n",
    "sklearn.metrics.confusion_matrix(tar_test,predictions)"
   ]
  },
  {
   "cell_type": "markdown",
   "id": "5b2bed83-7e20-4ae4-9964-d9b0a0437e8e",
   "metadata": {},
   "source": [
    "The confusion matrix above shows that out of 1830, 330 observations are mispridected by the model, Now lets see the accuracy score"
   ]
  },
  {
   "cell_type": "code",
   "execution_count": 14,
   "id": "3c49ffc5-fb29-4537-b46d-8c46bcc2ccfc",
   "metadata": {},
   "outputs": [
    {
     "data": {
      "text/plain": [
       "0.819672131147541"
      ]
     },
     "execution_count": 14,
     "metadata": {},
     "output_type": "execute_result"
    }
   ],
   "source": [
    "sklearn.metrics.accuracy_score(tar_test, predictions)"
   ]
  },
  {
   "cell_type": "markdown",
   "id": "7662f5b9-099d-4949-bf4b-a97745868fdb",
   "metadata": {},
   "source": [
    "The accuracy score is 81.96% which is much better"
   ]
  },
  {
   "cell_type": "markdown",
   "id": "72bf58f5-fa57-4fe5-aa01-2546dda0555e",
   "metadata": {},
   "source": [
    "# Displaying the Decision Tree"
   ]
  },
  {
   "cell_type": "code",
   "execution_count": 15,
   "id": "a6d8444a-0ab4-4ccc-b39a-45d5529cad2a",
   "metadata": {},
   "outputs": [
    {
     "data": {
      "image/png": "[encoded data removed]",
      "text/plain": [
       "<IPython.core.display.Image object>"
      ]
     },
     "execution_count": 15,
     "metadata": {},
     "output_type": "execute_result"
    }
   ],
   "source": [
    "from sklearn import tree\n",
    "from io import StringIO\n",
    "from IPython.display import Image\n",
    "out = StringIO()\n",
    "tree.export_graphviz(classifier, out_file=out)\n",
    "import pydotplus\n",
    "graph=pydotplus.graph_from_dot_data(out.getvalue())\n",
    "Image(graph.create_png())"
   ]
  },
  {
   "cell_type": "code",
   "execution_count": null,
   "id": "fd9c49a6-799b-4a0e-a648-1c11b166e1cf",
   "metadata": {},
   "outputs": [],
   "source": []
  }
 ],
 "metadata": {
  "kernelspec": {
   "display_name": "Python 3 (ipykernel)",
   "language": "python",
   "name": "python3"
  },
  "language_info": {
   "codemirror_mode": {
    "name": "ipython",
    "version": 3
   },
   "file_extension": ".py",
   "mimetype": "text/x-python",
   "name": "python",
   "nbconvert_exporter": "python",
   "pygments_lexer": "ipython3",
   "version": "3.10.9"
  }
 },
 "nbformat": 4,
 "nbformat_minor": 5
}
